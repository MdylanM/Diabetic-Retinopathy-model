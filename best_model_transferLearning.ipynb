{
  "nbformat": 4,
  "nbformat_minor": 0,
  "metadata": {
    "colab": {
      "name": "Copy of beste model transferLearning",
      "provenance": [],
      "collapsed_sections": [],
      "include_colab_link": true
    },
    "kernelspec": {
      "name": "python3",
      "display_name": "Python 3"
    },
    "accelerator": "GPU"
  },
  "cells": [
    {
      "cell_type": "markdown",
      "metadata": {
        "id": "view-in-github",
        "colab_type": "text"
      },
      "source": [
        "<a href=\"https://colab.research.google.com/github/MdylanM/THesis/blob/main/best_model_transferLearning.ipynb\" target=\"_parent\"><img src=\"https://colab.research.google.com/assets/colab-badge.svg\" alt=\"Open In Colab\"/></a>"
      ]
    },
    {
      "cell_type": "code",
      "metadata": {
        "id": "t1b42GomLvdA",
        "outputId": "b37b8e67-bb3e-49c7-c72c-8740073d4bb6",
        "colab": {
          "base_uri": "https://localhost:8080/",
          "height": 33
        }
      },
      "source": [
        "%tensorflow_version 1.x\n",
        "import itertools\n",
        "import multiprocessing.pool\n",
        "import threading\n",
        "from functools import partial\n",
        "from matplotlib import pyplot as plt\n",
        "\n",
        "from keras.applications.vgg16 import VGG16\n",
        "\n",
        "import keras\n",
        "import pandas as pd\n",
        "from keras import backend as K\n",
        "from keras import layers, models\n",
        "from keras.preprocessing import image\n",
        "from keras.layers import Dense, Dropout, Flatten\n",
        "from keras.applications.resnet50 import ResNet50\n",
        "from keras.applications.resnet50 import preprocess_input, decode_predictions\n",
        "from keras.layers import Conv2D, MaxPooling2D\n",
        "from keras.backend import relu, sigmoid\n",
        "from keras.utils import np_utils\n",
        "from keras.models import Model\n",
        "import numpy as np\n",
        "import statistics\n",
        "import time\n",
        "\n",
        "from keras.preprocessing import image\n",
        "from keras.applications.resnet50 import ResNet50\n",
        "from keras.applications.resnet50 import preprocess_input, decode_predictions\n",
        "from keras.preprocessing import image\n",
        "import numpy as np\n",
        "\n",
        "import tensorflow as tf\n",
        "from tensorflow.python.saved_model import utils\n",
        "from tensorflow.python.saved_model import tag_constants, signature_constants\n",
        "from tensorflow.python.saved_model.signature_def_utils_impl import build_signature_def, predict_signature_def\n",
        "from tensorflow.python.saved_model import builder as saved_model_builder\n",
        "from tensorflow.contrib.session_bundle import exporter\n",
        "import os\n"
      ],
      "execution_count": null,
      "outputs": [
        {
          "output_type": "stream",
          "text": [
            "Using TensorFlow backend.\n"
          ],
          "name": "stderr"
        }
      ]
    },
    {
      "cell_type": "code",
      "metadata": {
        "id": "N_pzeClH92S0",
        "outputId": "4c72a29c-deb6-484d-9fb0-be700c3ea232",
        "colab": {
          "base_uri": "https://localhost:8080/",
          "height": 369
        }
      },
      "source": [
        "![ -f trainDataSmall.npz ] || wget -O trainDataSmall.npz \"https://www.win.tue.nl/~cdecampos/trainDataSmall.npz\"\n",
        "![ -f testDataSmall.npz ] || wget -O testDataSmall.npz \"https://www.win.tue.nl/~cdecampos/testDataSmall.npz\""
      ],
      "execution_count": null,
      "outputs": [
        {
          "output_type": "stream",
          "text": [
            "--2020-01-13 17:04:43--  https://www.win.tue.nl/~cdecampos/trainDataSmall.npz\n",
            "Resolving www.win.tue.nl (www.win.tue.nl)... 131.155.11.13\n",
            "Connecting to www.win.tue.nl (www.win.tue.nl)|131.155.11.13|:443... connected.\n",
            "HTTP request sent, awaiting response... 200 OK\n",
            "Length: 203493642 (194M) [text/plain]\n",
            "Saving to: ‘trainDataSmall.npz’\n",
            "\n",
            "trainDataSmall.npz  100%[===================>] 194.07M  30.5MB/s    in 13s     \n",
            "\n",
            "2020-01-13 17:04:57 (15.2 MB/s) - ‘trainDataSmall.npz’ saved [203493642/203493642]\n",
            "\n",
            "--2020-01-13 17:04:58--  https://www.win.tue.nl/~cdecampos/testDataSmall.npz\n",
            "Resolving www.win.tue.nl (www.win.tue.nl)... 131.155.11.13\n",
            "Connecting to www.win.tue.nl (www.win.tue.nl)|131.155.11.13|:443... connected.\n",
            "HTTP request sent, awaiting response... 200 OK\n",
            "Length: 101034899 (96M) [text/plain]\n",
            "Saving to: ‘testDataSmall.npz’\n",
            "\n",
            "testDataSmall.npz   100%[===================>]  96.35M  19.5MB/s    in 11s     \n",
            "\n",
            "2020-01-13 17:05:09 (8.82 MB/s) - ‘testDataSmall.npz’ saved [101034899/101034899]\n",
            "\n"
          ],
          "name": "stdout"
        }
      ]
    },
    {
      "cell_type": "code",
      "metadata": {
        "id": "n26w9FaSw9vG"
      },
      "source": [
        "data = np.load(\"testDataSmall.npz\")\n",
        "X_test = AdjustBrightness(data[\"X_test\"])\n",
        "Y_test = change_label(data[\"Y_test\"])"
      ],
      "execution_count": null,
      "outputs": []
    },
    {
      "cell_type": "code",
      "metadata": {
        "id": "rAZvAFjNL0Wk"
      },
      "source": [
        "\n",
        "data = np.load(\"trainDataSmall.npz\",)\n",
        "\n",
        "def calculatemeanTotal(ArrayFile):\n",
        "    meangreyscale = []\n",
        "    for i in range(0, ArrayFile.shape[0]):\n",
        "        mean = sum(ArrayFile[i].ravel())/len(ArrayFile[i].ravel())\n",
        "        meangreyscale.append(mean)\n",
        "    return statistics.mean(meangreyscale)\n",
        "\n",
        "def AdjustBrightness(ArrayFile3D):\n",
        "    Mean = calculatemean(ArrayFile3D)\n",
        "    lst = []\n",
        "    for i in range(0, ArrayFile3D.shape[0]):\n",
        "        ravelledimage = ArrayFile3D[i].ravel()\n",
        "        factor = Mean / (sum(ravelledimage)/len(ravelledimage))\n",
        "        adjusted = [x*factor for x in ravelledimage]\n",
        "        lst.append(np.asarray(adjusted))\n",
        "    return np.asarray(lst).reshape(ArrayFile3D.shape[0],128,128,3)\n",
        "\n",
        "def calculatemean(ArrayFile):\n",
        "    meangreyscale = []\n",
        "    for i in range(0, ArrayFile.shape[0]):\n",
        "        mean = sum(ArrayFile[i].ravel())/len(ArrayFile[i].ravel())\n",
        "        meangreyscale.append(mean)\n",
        "    return statistics.mean(meangreyscale)\n",
        "def change_label(data):\n",
        "  changed = list()\n",
        "  for array in data:\n",
        "      for i in range(0, 4):\n",
        "          if array[i] == 1:\n",
        "              if i == 0:\n",
        "                  new = np.array([1., 0., 0.])\n",
        "              elif i == 1:\n",
        "                  new = np.array([0., 1., 0.])\n",
        "              elif i == 2:\n",
        "                  new = np.array([0., 1., 0.])\n",
        "              elif i == 3:\n",
        "                  new = np.array([0., 0., 1.])\n",
        "              elif i == 4:\n",
        "                  new = np.array([0., 0., 1.])\n",
        "      changed.append(new)\n",
        "  return np.array(changed)\n",
        "\n",
        "\n",
        "X_train = AdjustBrightness(data[\"X_train\"])\n",
        "Y_train = change_label(data[\"Y_train\"])\n",
        "\n",
        "\n"
      ],
      "execution_count": null,
      "outputs": []
    },
    {
      "cell_type": "code",
      "metadata": {
        "id": "IPPLxQLsSfLc",
        "outputId": "acc1177e-8509-4698-c39b-228a0e5fb534",
        "colab": {
          "base_uri": "https://localhost:8080/",
          "height": 49
        }
      },
      "source": [
        "base_model = ResNet50(input_shape= (128, 128, 3), include_top=False,weights='imagenet')\n",
        "x = base_model.output\n",
        "x= Flatten(name='flatten')(x)\n",
        "x = Dense(128, activation= 'relu')(x)\n",
        "x = Dropout(0.5)(x)\n",
        "x=Dense(64,activation='relu')(x)\n",
        "x = Dropout(0.5)(x)\n",
        "\n",
        "predictions = Dense(3, activation= 'softmax')(x)\n",
        "\n",
        "model= Model(inputs = base_model.input, outputs = predictions)\n"
      ],
      "execution_count": null,
      "outputs": [
        {
          "output_type": "stream",
          "text": [
            "/usr/local/lib/python3.6/dist-packages/keras_applications/resnet50.py:265: UserWarning: The output shape of `ResNet50(include_top=False)` has been changed since Keras 2.2.0.\n",
            "  warnings.warn('The output shape of `ResNet50(include_top=False)` '\n"
          ],
          "name": "stderr"
        }
      ]
    },
    {
      "cell_type": "code",
      "metadata": {
        "id": "JvfiLztE1WHF"
      },
      "source": [
        "model.compile(loss='categorical_crossentropy',optimizer='SGD',metrics=['accuracy'])\n"
      ],
      "execution_count": null,
      "outputs": []
    },
    {
      "cell_type": "code",
      "metadata": {
        "id": "kYR_YVog2f_G",
        "outputId": "75a7edf7-98c3-4b11-ddd3-08f2863918c0",
        "colab": {
          "base_uri": "https://localhost:8080/",
          "height": 321
        }
      },
      "source": [
        "t=time.time()\n",
        "hist = model.fit(X_train, Y_train, batch_size=200, epochs=8, verbose=1, validation_data=(X_test, Y_test))\n",
        "print('Training time: %s' % (t - time.time()))\n",
        "(loss, accuracy) = model.evaluate(X_test, Y_test, batch_size=200, verbose=1)\n"
      ],
      "execution_count": null,
      "outputs": [
        {
          "output_type": "stream",
          "text": [
            "Train on 5000 samples, validate on 2500 samples\n",
            "Epoch 1/8\n",
            "5000/5000 [==============================] - 20s 4ms/step - loss: 1.2462 - acc: 0.4194 - val_loss: 0.9847 - val_acc: 0.5580\n",
            "Epoch 2/8\n",
            "5000/5000 [==============================] - 13s 3ms/step - loss: 0.9877 - acc: 0.5038 - val_loss: 0.8737 - val_acc: 0.6096\n",
            "Epoch 3/8\n",
            "5000/5000 [==============================] - 13s 3ms/step - loss: 0.9090 - acc: 0.5532 - val_loss: 0.8240 - val_acc: 0.6388\n",
            "Epoch 4/8\n",
            "5000/5000 [==============================] - 13s 3ms/step - loss: 0.8465 - acc: 0.5964 - val_loss: 0.7876 - val_acc: 0.6404\n",
            "Epoch 5/8\n",
            "5000/5000 [==============================] - 13s 3ms/step - loss: 0.7817 - acc: 0.6334 - val_loss: 0.7581 - val_acc: 0.6524\n",
            "Epoch 6/8\n",
            "5000/5000 [==============================] - 13s 3ms/step - loss: 0.7307 - acc: 0.6626 - val_loss: 0.7792 - val_acc: 0.6484\n",
            "Epoch 7/8\n",
            "5000/5000 [==============================] - 13s 3ms/step - loss: 0.6807 - acc: 0.6838 - val_loss: 0.7509 - val_acc: 0.6568\n",
            "Epoch 8/8\n",
            "5000/5000 [==============================] - 13s 3ms/step - loss: 0.6361 - acc: 0.7002 - val_loss: 0.7404 - val_acc: 0.6652\n",
            "Training time: -112.35117030143738\n",
            "2500/2500 [==============================] - 2s 847us/step\n"
          ],
          "name": "stdout"
        }
      ]
    },
    {
      "cell_type": "code",
      "metadata": {
        "id": "VjJPGNx42bku",
        "colab": {
          "base_uri": "https://localhost:8080/",
          "height": 49
        },
        "outputId": "dd9841be-66dd-4e9a-c366-7934318d6640"
      },
      "source": [
        "# Keras Error Reset\n",
        "from keras import backend as K\n",
        "\n",
        "K.clear_session()"
      ],
      "execution_count": null,
      "outputs": [
        {
          "output_type": "stream",
          "text": [
            "WARNING:tensorflow:From /usr/local/lib/python3.6/dist-packages/keras/backend/tensorflow_backend.py:107: The name tf.reset_default_graph is deprecated. Please use tf.compat.v1.reset_default_graph instead.\n",
            "\n"
          ],
          "name": "stdout"
        }
      ]
    },
    {
      "cell_type": "code",
      "metadata": {
        "id": "2zGAiYOcBtWn"
      },
      "source": [
        "train_loss=hist.history['loss']\n",
        "val_loss=hist.history['val_loss']\n",
        "train_acc=hist.history['acc']\n",
        "val_acc=hist.history['val_acc']\n",
        "xc=range(8)"
      ],
      "execution_count": null,
      "outputs": []
    },
    {
      "cell_type": "code",
      "metadata": {
        "id": "XRnB9NFvIDyu",
        "outputId": "6fdf3e95-6504-4062-ab6c-252eb7c17082",
        "colab": {
          "base_uri": "https://localhost:8080/",
          "height": 350
        }
      },
      "source": [
        "plt.figure(1,figsize=(7,5))\n",
        "plt.plot(xc,train_loss)\n",
        "plt.plot(xc,val_loss)\n",
        "plt.xlabel('num of Epochs')\n",
        "plt.ylabel('loss')\n",
        "plt.title('train_loss vs val_loss')\n",
        "plt.grid(True)\n",
        "plt.legend(['train','val'])\n",
        "#print plt.style.available # use bmh, classic,ggplot for big pictures\n",
        "plt.style.use(['classic'])\n"
      ],
      "execution_count": null,
      "outputs": [
        {
          "output_type": "display_data",
          "data": {
            "image/png": "[encoded data removed]",
            "text/plain": [
              "<Figure size 504x360 with 1 Axes>"
            ]
          },
          "metadata": {
            "tags": []
          }
        }
      ]
    },
    {
      "cell_type": "code",
      "metadata": {
        "id": "yMmiDzsl9tCB",
        "outputId": "ee815672-d900-44c3-fc1d-483657023562",
        "colab": {
          "base_uri": "https://localhost:8080/",
          "height": 406
        }
      },
      "source": [
        "plt.figure(2,figsize=(7,5))\n",
        "plt.plot(xc,train_acc)\n",
        "plt.plot(xc,val_acc)\n",
        "plt.xlabel('num of Epochs')\n",
        "plt.ylabel('accuracy')\n",
        "plt.title('train_acc vs val_acc')\n",
        "plt.grid(True)\n",
        "plt.legend(['train','val'],loc=4)\n",
        "#print plt.style.available # use bmh, classic,ggplot for big pictures\n",
        "plt.style.use(['classic'])"
      ],
      "execution_count": null,
      "outputs": [
        {
          "output_type": "display_data",
          "data": {
            "image/png": "[encoded data removed]",
            "text/plain": [
              "<Figure size 560x400 with 1 Axes>"
            ]
          },
          "metadata": {
            "tags": []
          }
        }
      ]
    },
    {
      "cell_type": "code",
      "metadata": {
        "id": "9ezCCCOF9Rsc"
      },
      "source": [
        "model.save(\"Retinopathy.model.hdf5\")"
      ],
      "execution_count": null,
      "outputs": []
    }
  ]
}